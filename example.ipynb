{
 "cells": [
  {
   "cell_type": "markdown",
   "metadata": {},
   "source": [
    "# Import"
   ]
  },
  {
   "cell_type": "code",
   "execution_count": null,
   "metadata": {
    "vscode": {
     "languageId": "plaintext"
    }
   },
   "outputs": [],
   "source": [
    "import numpy as np"
   ]
  },
  {
   "cell_type": "markdown",
   "metadata": {},
   "source": [
    "# Load"
   ]
  },
  {
   "cell_type": "markdown",
   "metadata": {},
   "source": [
    "\n",
    "x_train, y_train, x_test, y_test, Nout = loader()\n",
    "y_test_reals = [int(np.argmax(x)) for x in y_test.tolist()]"
   ]
  },
  {
   "cell_type": "markdown",
   "metadata": {},
   "source": [
    "# Transform"
   ]
  },
  {
   "cell_type": "code",
   "execution_count": null,
   "metadata": {
    "vscode": {
     "languageId": "plaintext"
    }
   },
   "outputs": [],
   "source": [
    "z_train = reservoir.transform_snr_reservoir(x_train, False)\n",
    "z_test = reservoir.transform_snr_reservoir(x_test, False)\n",
    "\n",
    "(\n",
    "    z_train_flat,\n",
    "    y_train_1h,\n",
    "    z_valid_flat,\n",
    "    y_valid_1h,\n",
    "    z_test_flat,\n",
    "    y_test,\n",
    "    z_split_nested_train,\n",
    "    y_split_train,\n",
    ") = on_clf.Classifier.prepare_training_data(z_train, y_train, z_test, y_test)\n",
    "Nin = z_train_flat[0].shape[-1]\n",
    "y_train_reals = [int(np.argmax(x)) for x in y_split_train.tolist()]"
   ]
  },
  {
   "cell_type": "markdown",
   "metadata": {},
   "source": [
    "# Train"
   ]
  },
  {
   "cell_type": "code",
   "execution_count": null,
   "metadata": {
    "vscode": {
     "languageId": "plaintext"
    }
   },
   "outputs": [],
   "source": [
    "model = on_clf.Classifier(Nin, Nout, model=net(Nin, Nout))\n",
    "model.training_session(\n",
    "    z_train_flat,\n",
    "    y_train_1h,\n",
    "    z_valid_flat,\n",
    "    y_valid_1h,\n",
    "    lr=0.04,\n",
    "    l2_lambda=0.005,\n",
    ")"
   ]
  }
 ],
 "metadata": {
  "language_info": {
   "name": "python"
  },
  "orig_nbformat": 4
 },
 "nbformat": 4,
 "nbformat_minor": 2
}
