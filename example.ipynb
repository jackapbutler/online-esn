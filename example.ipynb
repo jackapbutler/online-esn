{
 "cells": [
  {
   "cell_type": "markdown",
   "metadata": {},
   "source": [
    "# Import"
   ]
  },
  {
   "cell_type": "code",
   "execution_count": null,
   "metadata": {},
   "outputs": [],
   "source": [
    "import numpy as np\n",
    "import src.datasets.load_TI46 as ti46\n",
    "import src.echo_state_network as esn\n",
    "import src.online_training as online\n",
    "import src.networks as nets"
   ]
  },
  {
   "cell_type": "markdown",
   "metadata": {},
   "source": [
    "# Load"
   ]
  },
  {
   "cell_type": "code",
   "execution_count": null,
   "metadata": {},
   "outputs": [],
   "source": [
    "x_train, y_train, x_test, y_test, N_LABELS = ti46.load_and_process_ti46()\n",
    "\n",
    "y_train_reals = [int(np.argmax(x)) for x in y_train.tolist()]\n",
    "y_test_reals = [int(np.argmax(x)) for x in y_test.tolist()]"
   ]
  },
  {
   "cell_type": "markdown",
   "metadata": {},
   "source": [
    "# Transform using ESN"
   ]
  },
  {
   "cell_type": "code",
   "execution_count": null,
   "metadata": {},
   "outputs": [],
   "source": [
    "N_RESERVOIR = 200\n",
    "reservoir = esn.ESN(nIn=x_train[0].shape[-1], nRes=N_RESERVOIR)  # can add kwargs\n",
    "\n",
    "z_train = reservoir.transform(x_train)\n",
    "z_test = reservoir.transform(x_test)"
   ]
  },
  {
   "cell_type": "markdown",
   "metadata": {},
   "source": [
    "# Prepare Dataloaders"
   ]
  },
  {
   "cell_type": "code",
   "execution_count": null,
   "metadata": {},
   "outputs": [],
   "source": [
    "(\n",
    "    z_train_flat,\n",
    "    y_train_1h,\n",
    "    z_valid_flat,\n",
    "    y_valid_1h,\n",
    "    z_test_flat,\n",
    "    y_test_labels,\n",
    "    z_split_nested_train,\n",
    "    y_split_train,\n",
    ") = online.Classifier.prepare_training_data(z_train, y_train, z_test, y_test)"
   ]
  },
  {
   "cell_type": "markdown",
   "metadata": {},
   "source": [
    "# Train Online Classifier"
   ]
  },
  {
   "cell_type": "code",
   "execution_count": null,
   "metadata": {},
   "outputs": [],
   "source": [
    "model = online.Classifier(\n",
    "    Nin=N_RESERVOIR, Nout=N_LABELS, model=nets.TwoLayerMlp(N_RESERVOIR, N_LABELS)\n",
    ")\n",
    "\n",
    "train_history = model.training_session(\n",
    "    z_train_flat,\n",
    "    y_train_1h,\n",
    "    z_valid_flat,\n",
    "    y_valid_1h,\n",
    "    lr=0.001,\n",
    "    l2_lambda=0,\n",
    ")"
   ]
  },
  {
   "cell_type": "markdown",
   "metadata": {},
   "source": [
    "# Evaluate Model"
   ]
  },
  {
   "cell_type": "code",
   "execution_count": null,
   "metadata": {},
   "outputs": [],
   "source": [
    "online.plot_results_array(train_history)"
   ]
  }
 ],
 "metadata": {
  "interpreter": {
   "hash": "3822305740b10973f435529bee7bcea7fb3e9c8e85033bab22bcc582f0910dc2"
  },
  "kernelspec": {
   "display_name": "Python 3.9.0 ('online-esn-S9csFWc4-py3.9')",
   "language": "python",
   "name": "python3"
  },
  "language_info": {
   "codemirror_mode": {
    "name": "ipython",
    "version": 3
   },
   "file_extension": ".py",
   "mimetype": "text/x-python",
   "name": "python",
   "nbconvert_exporter": "python",
   "pygments_lexer": "ipython3",
   "version": "3.9.0"
  },
  "orig_nbformat": 4
 },
 "nbformat": 4,
 "nbformat_minor": 2
}
